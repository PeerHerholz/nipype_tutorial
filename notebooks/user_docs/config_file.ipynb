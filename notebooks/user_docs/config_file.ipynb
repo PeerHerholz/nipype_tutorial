{
 "cells": [
  {
   "cell_type": "markdown",
   "metadata": {},
   "source": [
    "# Configuration File\n",
    "\n",
    "Some of the system wide options of Nipype can be configured using a configuration file. Nipype looks for the file in the local folder under the name ``nipype.cfg`` and in ``~/.nipype/nipype.cfg`` (in this order). If an option will not be specified a default value will be assumed. The file is divided into following sections:"
   ]
  },
  {
   "cell_type": "markdown",
   "metadata": {},
   "source": [
    "## Logging\n",
    "\n",
    "- *workflow_level*  \n",
    "    How detailed the logs regarding workflow should be (possible values: ``INFO`` and ``DEBUG``; default value: ``INFO``)\n",
    "\n",
    "\n",
    "- *utils_level*  \n",
    "    How detailed the logs regarding nipype utils, like file operations (for example overwriting warning) or the resource profiler, should be (possible values: ``INFO`` and ``DEBUG``; default value: ``INFO``)\n",
    "\n",
    "\n",
    "- *interface_level*  \n",
    "    How detailed the logs regarding interface execution should be (possible values: ``INFO`` and ``DEBUG``; default value: ``INFO``)\n",
    "\n",
    "\n",
    "- *filemanip_level* (deprecated as of 1.0)  \n",
    "    How detailed the logs regarding file operations (for example overwriting warning) should be (possible values: ``INFO`` and ``DEBUG``)\n",
    "\n",
    "\n",
    "- *log_to_file*  \n",
    "    Indicates whether logging should also send the output to a file (possible values: ``true`` and ``false``; default value: ``false``)\n",
    "\n",
    "\n",
    "- *log_directory*  \n",
    "    Where to store logs. (string, default value: home directory)\n",
    "\n",
    "\n",
    "- *log_size*  \n",
    "    Size of a single log file. (integer, default value: 254000)\n",
    "\n",
    "\n",
    "- *log_rotate*  \n",
    "    How many rotation should the log file make. (integer, default value: 4)"
   ]
  },
  {
   "cell_type": "markdown",
   "metadata": {},
   "source": [
    "## Execution\n",
    "\n",
    "- *plugin*  \n",
    "    This defines which execution plugin to use. (possible values: ``Linear``,\n",
    "    ``MultiProc``, ``SGE``, ``IPython``; default value: ``Linear``)\n",
    "\n",
    "\n",
    "- *stop_on_first_crash*  \n",
    "    Should the workflow stop upon first node crashing or try to execute as many\n",
    "    nodes as possible? (possible values: ``true`` and ``false``; default value:\n",
    "    ``false``)\n",
    "\n",
    "\n",
    "- *stop_on_first_rerun*  \n",
    "    Should the workflow stop upon first node trying to recompute (by that we\n",
    "    mean rerunning a node that has been run before - this can happen due changed\n",
    "    inputs and/or hash_method since the last run). (possible values: ``true``\n",
    "    and ``false``; default value: ``false``)\n",
    "\n",
    "\n",
    "- *hash_method*  \n",
    "    Should the input files be checked for changes using their content (slow, but\n",
    "    100% accurate) or just their size and modification date (fast, but\n",
    "    potentially prone to errors)? (possible values: ``content`` and\n",
    "    ``timestamp``; default value: ``timestamp``)\n",
    "\n",
    "\n",
    "- *keep_inputs*  \n",
    "    Ensures that all inputs that are created in the nodes working directory are\n",
    "    kept after node execution (possible values: ``true`` and ``false``; default\n",
    "    value: ``false``)\n",
    "\n",
    "\n",
    "- *single_thread_matlab*  \n",
    "    Should all of the Matlab interfaces (including SPM) use only one thread?\n",
    "    This is useful if you are parallelizing your workflow using MultiProc or\n",
    "    IPython on a single multicore machine. (possible values: ``true`` and\n",
    "    ``false``; default value: ``true``)\n",
    "\n",
    "\n",
    "- *display_variable*  \n",
    "\tOverride the ``$DISPLAY`` environment variable for interfaces that require\n",
    "    an X server. This option is useful if there is a running X server, but\n",
    "    ``$DISPLAY`` was not defined in nipype's environment. For example, if an X\n",
    "    server is listening on the default port of 6000, set ``display_variable = :0``\n",
    "    to enable nipype interfaces to use it. It may also point to displays provided\n",
    "    by VNC, `xnest <http://www.x.org/archive/X11R7.5/doc/man/man1/Xnest.1.html>`_\n",
    "    or `Xvfb <http://www.x.org/archive/X11R6.8.1/doc/Xvfb.1.html>`_.\n",
    "    If neither ``display_variable`` nor the ``$DISPLAY`` environment variable are\n",
    "    set, nipype will try to configure a new virtual server using Xvfb.\n",
    "    (possible values: any X server address; default value: not set)\n",
    "\n",
    "\n",
    "- *remove_unnecessary_outputs*  \n",
    "    This will remove any interface outputs not needed by the workflow. If the\n",
    "    required outputs from a node changes, rerunning the workflow will rerun the\n",
    "    node. Outputs of leaf nodes (nodes whose outputs are not connected to any\n",
    "    other nodes) will never be deleted independent of this parameter. (possible\n",
    "    values: ``true`` and ``false``; default value: ``true``)\n",
    "\n",
    "\n",
    "- *try_hard_link_datasink*  \n",
    "    When the DataSink is used to produce an orginized output file outside\n",
    "    of nipypes internal cache structure, a file system hard link will be\n",
    "    attempted first. A hard link allow multiple file paths to point to the\n",
    "    same physical storage location on disk if the conditions allow. By\n",
    "    refering to the same physical file on disk (instead of copying files\n",
    "    byte-by-byte) we can avoid unnecessary data duplication.  If hard links\n",
    "    are not supported for the source or destination paths specified, then\n",
    "    a standard byte-by-byte copy is used.  (possible values: ``true`` and\n",
    "    ``false``; default value: ``true``)\n",
    "\n",
    "\n",
    "- *use_relative_paths*  \n",
    "    Should the paths stored in results (and used to look for inputs)\n",
    "    be relative or absolute. Relative paths allow moving the whole\n",
    "    working directory around but may cause problems with\n",
    "    symlinks. (possible values: ``true`` and ``false``; default\n",
    "    value: ``false``)\n",
    "\n",
    "\n",
    "- *local_hash_check*  \n",
    "    Perform the hash check on the job submission machine. This option minimizes\n",
    "    the number of jobs submitted to a cluster engine or a multiprocessing pool\n",
    "    to only those that need to be rerun. (possible values: ``true`` and\n",
    "    ``false``; default value: ``true``)\n",
    "\n",
    "\n",
    "- *job_finished_timeout*  \n",
    "    When batch jobs are submitted through, SGE/PBS/Condor they could be killed\n",
    "    externally. Nipype checks to see if a results file exists to determine if\n",
    "    the node has completed. This timeout determines for how long this check is\n",
    "    done after a job finish is detected. (float in seconds; default value: 5)\n",
    "\n",
    "\n",
    "- *remove_node_directories (EXPERIMENTAL)*  \n",
    "    Removes directories whose outputs have already been used\n",
    "    up. Doesn't work with IdentiInterface or any node that patches\n",
    "    data through (without copying) (possible values: ``true`` and\n",
    "    ``false``; default value: ``false``)\n",
    "\n",
    "\n",
    "- *stop_on_unknown_version*  \n",
    "    If this is set to True, an underlying interface will raise an error, when no\n",
    "    version information is available. Please notify developers or submit a\n",
    "    patch.\n",
    "\n",
    "\n",
    "- *parameterize_dirs*  \n",
    "    If this is set to True, the node's output directory will contain full\n",
    "    parameterization of any iterable, otherwise parameterizations over 32\n",
    "    characters will be replaced by their hash. (possible values: ``true`` and\n",
    "    ``false``; default value: ``true``)\n",
    "\n",
    "\n",
    "- *poll_sleep_duration*  \n",
    "    This controls how long the job submission loop will sleep between submitting\n",
    "    all pending jobs and checking for job completion. To be nice to cluster\n",
    "    schedulers the default is set to 2 seconds.\n",
    "\n",
    "\n",
    "- *xvfb_max_wait*  \n",
    "    Maximum time (in seconds) to wait for Xvfb to start, if the _redirect_x\n",
    "    parameter of an Interface is True.\n",
    "\n",
    "\n",
    "- *crashfile_format*  \n",
    "    This option controls the file type of any crashfile generated. Pklz\n",
    "    crashfiles allow interactive debugging and rerunning of nodes, while text\n",
    "    crashfiles allow portability across machines and shorter load time.\n",
    "    (possible values: ``pklz`` and ``txt``; default value: ``pklz``)"
   ]
  },
  {
   "cell_type": "markdown",
   "metadata": {},
   "source": [
    "## Resource Monitor\n",
    "\n",
    "- *enabled*  \n",
    "    Enables monitoring the resources occupation (possible values: ``true`` and\n",
    "    ``false``; default value: ``false``). All the following options will be\n",
    "    dismissed if the resource monitor is not enabled.\n",
    "\n",
    "\n",
    "- *sample_frequency*  \n",
    "    Sampling period (in seconds) between measurements of resources (memory, cpus)\n",
    "    being used by an interface (default value: ``1``)\n",
    "\n",
    "\n",
    "- *summary_file*  \n",
    "    Indicates where the summary file collecting all profiling information from the\n",
    "    resource monitor should be stored after execution of a workflow.\n",
    "    The ``summary_file`` does not apply to interfaces run independently.\n",
    "    (unset by default, in which case the summary file will be written out to \n",
    "    ``<base_dir>/resource_monitor.json`` of the top-level workflow).\n",
    "\n",
    "\n",
    "- *summary_append*  \n",
    "    Append to an existing summary file (only applies to workflows).\n",
    "    (default value: ``true``, possible values: ``true`` or ``false``)."
   ]
  },
  {
   "cell_type": "markdown",
   "metadata": {},
   "source": [
    "# Example"
   ]
  },
  {
   "cell_type": "markdown",
   "metadata": {},
   "source": [
    "    [logging]\n",
    "    workflow_level = DEBUG\n",
    "\n",
    "    [execution]\n",
    "    stop_on_first_crash = true\n",
    "    hash_method = timestamp\n",
    "    display_variable = :1\n",
    "\n",
    "    [monitoring]\n",
    "    enabled = false"
   ]
  },
  {
   "cell_type": "markdown",
   "metadata": {},
   "source": [
    "Workflow.config property has a form of a nested dictionary reflecting the\n",
    "structure of the .cfg file."
   ]
  },
  {
   "cell_type": "code",
   "execution_count": 4,
   "metadata": {},
   "outputs": [],
   "source": [
    "from nipype import Workflow\n",
    "myworkflow = Workflow(name='myworkflow')\n",
    "myworkflow.config['execution'] = {'stop_on_first_rerun': 'True',\n",
    "                                  'hash_method': 'timestamp'}"
   ]
  },
  {
   "cell_type": "markdown",
   "metadata": {},
   "source": [
    "You can also directly set global config options in your workflow script. An\n",
    "example is shown below. This needs to be called before you import the\n",
    "pipeline or the logger. Otherwise logging level will not be reset."
   ]
  },
  {
   "cell_type": "code",
   "execution_count": 5,
   "metadata": {},
   "outputs": [],
   "source": [
    "from nipype import config\n",
    "cfg = dict(logging=dict(workflow_level = 'DEBUG'),\n",
    "         execution={'stop_on_first_crash': False,\n",
    "                    'hash_method': 'content'})\n",
    "config.update_config(cfg)"
   ]
  },
  {
   "cell_type": "markdown",
   "metadata": {},
   "source": [
    "## Enabling logging to file\n",
    "\n",
    "By default, logging to file is disabled. One can enable and write the file to\n",
    "a location of choice as in the example below."
   ]
  },
  {
   "cell_type": "code",
   "execution_count": 7,
   "metadata": {},
   "outputs": [],
   "source": [
    "import os\n",
    "from nipype import config, logging\n",
    "config.update_config({'logging': {'log_directory': os.getcwd(),\n",
    "                                  'log_to_file': True}})\n",
    "logging.update_logging(config)"
   ]
  },
  {
   "cell_type": "markdown",
   "metadata": {},
   "source": [
    "The logging update line is necessary to change the behavior of logging such as\n",
    "output directory, logging level, etc."
   ]
  },
  {
   "cell_type": "markdown",
   "metadata": {},
   "source": [
    "## Debug configuration\n",
    "\n",
    "To enable debug mode, one can insert the following lines::"
   ]
  },
  {
   "cell_type": "code",
   "execution_count": 8,
   "metadata": {},
   "outputs": [],
   "source": [
    "from nipype import config, logging\n",
    "config.enable_debug_mode()\n",
    "logging.update_logging(config)"
   ]
  },
  {
   "cell_type": "markdown",
   "metadata": {},
   "source": [
    "In this mode the following variables are set:"
   ]
  },
  {
   "cell_type": "code",
   "execution_count": 9,
   "metadata": {},
   "outputs": [],
   "source": [
    "config.set('execution', 'stop_on_first_crash', 'true')\n",
    "config.set('execution', 'remove_unnecessary_outputs', 'false')\n",
    "config.set('logging', 'workflow_level', 'DEBUG')\n",
    "config.set('logging', 'interface_level', 'DEBUG')"
   ]
  }
 ],
 "metadata": {
  "kernelspec": {
   "display_name": "Python 3",
   "language": "python",
   "name": "python3"
  },
  "language_info": {
   "codemirror_mode": {
    "name": "ipython",
    "version": 3
   },
   "file_extension": ".py",
   "mimetype": "text/x-python",
   "name": "python",
   "nbconvert_exporter": "python",
   "pygments_lexer": "ipython3",
   "version": "3.6.3"
  }
 },
 "nbformat": 4,
 "nbformat_minor": 2
}
