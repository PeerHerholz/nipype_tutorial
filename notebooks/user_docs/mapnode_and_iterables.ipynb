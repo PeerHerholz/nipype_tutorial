{
 "cells": [
  {
   "cell_type": "markdown",
   "metadata": {},
   "source": [
    "# MapNode, iterfield, and iterables explained\n",
    "\n",
    "In this chapter we will try to explain the concepts behind MapNode, iterfield, and iterables."
   ]
  },
  {
   "cell_type": "markdown",
   "metadata": {},
   "source": [
    "## MapNode and iterfield\n",
    "\n",
    "Imagine that you have a list of items (lets say files) and you want to execute the same node on them (for example some smoothing or masking). Some nodes accept multiple files and do exactly the same thing on them, but some don't (they expect only one file). MapNode can solve this problem. Imagine you have the following workflow:\n",
    "\n",
    "<img src=\"../../static/images/simple_flow.png\", width=\"75\">\n",
    "\n",
    "Node ``A`` outputs a list of files, but node ``B`` accepts only one file. Additionally ``C`` expects a list of files. What you would like is to run ``B`` for every file in the output of ``A`` and collect the results as a list and feed it to ``C``. Something like this:\n",
    "\n",
    "<img src=\"../../static/images/mapnode.png\", width=\"345\">\n",
    "\n",
    "The code to achieve this is quite simple"
   ]
  },
  {
   "cell_type": "code",
   "execution_count": null,
   "metadata": {},
   "outputs": [],
   "source": [
    "from nipype import Node, MapNode, Workflow\n",
    "a = Node(interface=A(), name=\"a\")\n",
    "b = MapNode(interface=B(), name=\"b\", iterfield=['in_file'])\n",
    "c = Node(interface=C(), name=\"c\")\n",
    "\n",
    "my_workflow = Workflow(name=\"my_workflow\")\n",
    "my_workflow.connect([(a,b,[('out_files','in_file')]),\n",
    "                     (b,c,[('out_file','in_files')])\n",
    "                     ])"
   ]
  },
  {
   "cell_type": "markdown",
   "metadata": {},
   "source": [
    "assuming that interfaces ``A`` and ``C`` have one input ``in_files`` and one output ``out_files`` (both lists of files). Interface ``B`` has single file input ``in_file`` and single file output ``out_file``.\n",
    "\n",
    "You probably noticed that you connect nodes as if ``B`` could accept and output list of files. This is because it is wrapped using MapNode instead of Node. This special version of node will (under the bonnet) create an instance of ``B`` for every item in the list from the input. The compulsory argument ``iterfield`` defines which input should it iterate over (for example in single file smooth interface you would like to iterate over input files not the smoothing width). At the end outputs are collected into a list again. In other words this is map and reduce scenario.\n",
    "\n",
    "You might have also noticed that the iterfield arguments expects a list of input names instead of just one name. This suggests that there can be more than one! Even though a bit confusing this is true. You can specify more than one input to iterate over but the lists that you provide (for all the inputs specified in iterfield) have to have the same length. MapNode will then pair the parameters up and run the first instance with first set of parameters and second with second set of parameters. For example, this code:"
   ]
  },
  {
   "cell_type": "code",
   "execution_count": null,
   "metadata": {},
   "outputs": [],
   "source": [
    "b = MapNode(interface=B(), name=\"b\", iterfield=['in_file', 'n'])\n",
    "b.inputs.in_file = ['file', 'another_file', 'different_file']\n",
    "b.inputs.n = [1,2,3]\n",
    "b.run()"
   ]
  },
  {
   "cell_type": "markdown",
   "metadata": {},
   "source": [
    "is almost the same as running"
   ]
  },
  {
   "cell_type": "code",
   "execution_count": null,
   "metadata": {},
   "outputs": [],
   "source": [
    "b1 = Node(interface=B(), name=\"b1\")\n",
    "b1.inputs.in_file = 'file'\n",
    "b1.inputs.n = 1\n",
    "\n",
    "b2 = Node(interface=B(), name=\"b2\")\n",
    "b2.inputs.in_file = 'another_file'\n",
    "b2.inputs.n = 2\n",
    "\n",
    "b3 = Node(interface=B(), name=\"b3\")\n",
    "b3.inputs.in_file = 'different_file'\n",
    "b3.inputs.n = 3"
   ]
  },
  {
   "cell_type": "markdown",
   "metadata": {},
   "source": [
    "It is a rarely used feature, but you can sometimes find it useful.\n",
    "\n",
    "In more advanced applications it is useful to be able to iterate over items of nested lists (for example ``[[1,2],[3,4]]``). MapNode allows you to do this with the \"nested=True\" parameter. Outputs will preserve the same nested structure as the inputs."
   ]
  },
  {
   "cell_type": "markdown",
   "metadata": {},
   "source": [
    "## Iterables\n",
    "\n",
    "Now imagine a different scenario. You have your workflow as before\n",
    "\n",
    "<img src=\"../../static/images/simple_flow.png\", width=\"75\">\n",
    "\n",
    "and there are three possible values of one of the inputs node ``B`` you would like to investigate (for example width of 2,4, and 6 pixels of a smoothing node). You would like to see how different parameters in node ``B`` would influence everything that depends on its outputs (node ``C`` in our example). Therefore the new graph should look like this:\n",
    "\n",
    "<img src=\"../../static/images/iterables.png\", width=\"255\">\n",
    "\n",
    "Of course you can do it manually by creating copies of all the nodes for different parameter set, but this can be very time consuming, especially when there are more than one node taking inputs from ``B``. Luckily nipype supports this scenario! Its called iterables and and you use it this way:"
   ]
  },
  {
   "cell_type": "code",
   "execution_count": null,
   "metadata": {},
   "outputs": [],
   "source": [
    "from nipype import Node, Workflow\n",
    "a = Node(interface=A(), name=\"a\")\n",
    "b = Node(interface=B(), name=\"b\")\n",
    "b.iterables = (\"n\", [1, 2, 3])\n",
    "c = Node(interface=C(), name=\"c\")\n",
    "\n",
    "my_workflow = Workflow(name=\"my_workflow\")\n",
    "my_workflow.connect([(a,b,[('out_file','in_file')]),\n",
    "                     (b,c,[('out_file','in_file')])\n",
    "                     ])"
   ]
  },
  {
   "cell_type": "markdown",
   "metadata": {},
   "source": [
    "Assuming that you want to try out values 1, 2, and 3 of input ``n`` of the node ``B``. This will also create three different versions of node ``C`` - each with inputs from instances of node ``C`` with different values of ``n``.\n",
    "\n",
    "Additionally, you can set multiple iterables for a node with a list of tuples in the above format.\n",
    "\n",
    "Iterables are commonly used to execute the same workflow for many subjects. Usually one parametrises DataGrabber node with subject ID. This is achieved by connecting an IdentityInterface in front of DataGrabber. When you set iterables of the IdentityInterface to the list of subjects IDs, the same workflow will be executed for every subject. See [fMRI: SPM, FSL](http://nipype.readthedocs.io/en/latest/users/examples/fmri_spm.html) to see this pattern in action."
   ]
  }
 ],
 "metadata": {
  "kernelspec": {
   "display_name": "Python 3",
   "language": "python",
   "name": "python3"
  },
  "language_info": {
   "codemirror_mode": {
    "name": "ipython",
    "version": 3
   },
   "file_extension": ".py",
   "mimetype": "text/x-python",
   "name": "python",
   "nbconvert_exporter": "python",
   "pygments_lexer": "ipython3",
   "version": "3.6.3"
  }
 },
 "nbformat": 4,
 "nbformat_minor": 2
}
