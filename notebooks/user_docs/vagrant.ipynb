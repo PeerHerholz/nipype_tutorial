{
 "cells": [
  {
   "cell_type": "markdown",
   "metadata": {},
   "source": [
    "# Running Nipype in a VM\n",
    "\n",
    "*Creating the Vagrant VM as described below requires an active internet connection.*\n",
    "\n",
    "Container technologies ([Vagrant](http://www.vagrantup.com/), [Docker](http://www.docker.io/)) allow creating and manipulating lightweight virtual environments. The [Nipype](http://nipy.org/nipype/) source now contains a Vagrantfile to launch a [Vagrant](http://www.vagrantup.com/) VM.\n",
    "\n",
    "Requirements:\n",
    "- [Vagrant](http://www.vagrantup.com/)\n",
    "- [Virtualbox](https://www.virtualbox.org/)\n",
    "\n",
    "After you have installed Vagrant and Virtualbox, you simply need to download the latest Nipype source and unzip/tar/compress it. Go into your terminal and switch to the nipype source directory. Make sure the Vagrantfile is in the directory. Now you can execute:\n",
    "\n",
    "```\n",
    "vagrant up\n",
    "```\n",
    "\n",
    "This will launch and provision the virtual machine.\n",
    "\n",
    "The default virtual machine is built using Ubuntu Precise 64, linked to the [NeuroDebian](http://neuro.debian.net/) source repo and contains a 2 node Grid Engine for cluster execution.\n",
    "\n",
    "The machine has a default IP address of `192.168.100.20` . From the vagrant startup directory you can log into the machine using::\n",
    "\n",
    "```\n",
    "vagrant ssh\n",
    "```\n",
    "\n",
    "Now you can install your favorite software using::\n",
    "\n",
    "```\n",
    "sudo apt-get install fsl afni\n",
    "```\n",
    "\n",
    "Also note that the directory in which you call `vagrant up` will be mounted under `/vagrant` inside the virtual machine. You can also copy the Vagrantfile or modify it in order to mount a different directory/directories.\n",
    "\n",
    "Please read through [Vagrant](http://www.vagrantup.com/) documentation on other features. The python environment is built using a [miniconda](http://repo.continuum.io/miniconda/) distribution. Hence `conda` can be used to do your python package management inside the VM."
   ]
  }
 ],
 "metadata": {
  "kernelspec": {
   "display_name": "Python 3",
   "language": "python",
   "name": "python3"
  },
  "language_info": {
   "codemirror_mode": {
    "name": "ipython",
    "version": 3
   },
   "file_extension": ".py",
   "mimetype": "text/x-python",
   "name": "python",
   "nbconvert_exporter": "python",
   "pygments_lexer": "ipython3",
   "version": "3.6.3"
  }
 },
 "nbformat": 4,
 "nbformat_minor": 2
}
