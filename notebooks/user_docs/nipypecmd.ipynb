{
 "cells": [
  {
   "cell_type": "markdown",
   "metadata": {},
   "source": [
    "# Running Nipype Interfaces from the command line (nipype_cmd)\n",
    "\n",
    "The primary use of Nipype_ is to build automated non-interactive pipelines. However, sometimes there is a need to run some interfaces quickly from the command line. This is especially useful when running Interfaces wrapping code that does not have command line equivalents (nipy or SPM). Being able to run Nipype interfaces opens new possibilities such as inclusion of SPM processing steps in bash scripts.\n",
    "\n",
    "To run Nipype Interafces you need to use the nipype_cmd tool that should already be installed. The tool allows you to list Interfaces available in a certain package:\n",
    "\n",
    "```bash\n",
    "$$$ $ $ $$ $$ $nipype_cmd nipype.interfaces.nipy\n",
    "\n",
    "\tAvailable Interfaces:\n",
    "\t    SpaceTimeRealigner\n",
    "\t    Similarity\n",
    "\t    ComputeMask\n",
    "\t    FitGLM\n",
    "\t    EstimateContrast\n",
    "\t    FmriRealign4d\n",
    "```\n",
    "\n",
    "After selecting a particular Interface you can learn what inputs it requires:\n",
    "\n",
    "```bash\n",
    "nipype_cmd nipype.interfaces.nipy ComputeMask --help\n",
    "\n",
    "usage:nipype_cmd nipype.interfaces.nipy ComputeMask [-h] [--M M] [-$$$$$$-cc CC]\n",
    "                                                     [--ignore_exception IGNORE_EXCEPTION]\n",
    "                                                     [--m M]\n",
    "                                                     [--reference_volume REFERENCE_VOLUME]\n",
    "                                                     mean_volume\n",
    "\n",
    "Run ComputeMask\n",
    "\n",
    "positional arguments:\n",
    "  mean_volume           mean EPI image, used to compute the threshold for the\n",
    "                        mask\n",
    "\n",
    "optional arguments:\n",
    "  -h, --help            show this help message and exit\n",
    "  --M M                 upper fraction of the histogram to be discarded\n",
    "  --cc CC               Keep only the largest connected component\n",
    "  --ignore_exception IGNORE_EXCEPTION\n",
    "                        Print an error message instead of throwing an\n",
    "                        exception in case the interface fails to run\n",
    "  --m M                 lower fraction of the histogram to be discarded\n",
    "  --reference_volume REFERENCE_VOLUME\n",
    "                        reference volume used to compute the mask. If none is\n",
    "                        give, the mean volume is used.\n",
    "```\n",
    "\n",
    "Finally you can run run the Interface:\n",
    "\n",
    "```bash\n",
    "nipype_cmd nipype.interfaces.nipy ComputeMask mean.nii.gz\n",
    "```\n",
    "\n",
    "All that from the command line without having to start python interpreter manually."
   ]
  }
 ],
 "metadata": {
  "kernelspec": {
   "display_name": "Python 3",
   "language": "python",
   "name": "python3"
  },
  "language_info": {
   "codemirror_mode": {
    "name": "ipython",
    "version": 3
   },
   "file_extension": ".py",
   "mimetype": "text/x-python",
   "name": "python",
   "nbconvert_exporter": "python",
   "pygments_lexer": "ipython3",
   "version": "3.6.3"
  }
 },
 "nbformat": 4,
 "nbformat_minor": 2
}
