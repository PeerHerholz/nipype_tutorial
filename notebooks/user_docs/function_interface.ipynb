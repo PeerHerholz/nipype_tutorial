{
 "cells": [
  {
   "cell_type": "markdown",
   "metadata": {},
   "source": [
    "# The Function Interface\n",
    "\n",
    "Most Nipype interfaces provide access to external programs, such as FSL binaries or SPM routines. However, a special interface, `nipype.interfaces.utility.Function`, allows you to wrap arbitrary Python code in the Interface framework and seamlessly integrate it into your workflows."
   ]
  },
  {
   "cell_type": "markdown",
   "metadata": {},
   "source": [
    "## A Simple Function Interface\n",
    "\n",
    "The most important component of a working Function interface is a Python function. There are several ways to associate a function with a Function interface, but the most common way will involve functions you code yourself as part of your Nipype scripts. Consider the following function:"
   ]
  },
  {
   "cell_type": "code",
   "execution_count": null,
   "metadata": {},
   "outputs": [],
   "source": [
    "def add_two(val):\n",
    "    return val + 2"
   ]
  },
  {
   "cell_type": "markdown",
   "metadata": {},
   "source": [
    "This simple function takes a value, adds 2 to it, and returns that new value.\n",
    "\n",
    "Just as Nipype interfaces have inputs and outputs, Python functions have inputs, in the form of parameters or arguments, and outputs, in the form of their return values. When you define a Function interface object with an existing function, as in the case of ``add_two()`` above, you must pass the constructor information about the function's inputs, its outputs, and the function itself.  For example,"
   ]
  },
  {
   "cell_type": "code",
   "execution_count": null,
   "metadata": {},
   "outputs": [],
   "source": [
    "from nipype.interfaces.utility import Function\n",
    "add_two_interface = Function(input_names=[\"val\"],\n",
    "                             output_names=[\"out_val\"],\n",
    "                             function=add_two)"
   ]
  },
  {
   "cell_type": "markdown",
   "metadata": {},
   "source": [
    "Then you can set the inputs and run just as you would with any other interface:"
   ]
  },
  {
   "cell_type": "code",
   "execution_count": null,
   "metadata": {},
   "outputs": [],
   "source": [
    "add_two_interface.inputs.val = 2\n",
    "res = add_two_interface.run()\n",
    "print res.outputs.out_val"
   ]
  },
  {
   "cell_type": "markdown",
   "metadata": {},
   "source": [
    "Which would print ``4``.\n",
    "\n",
    "Note that, if you are working interactively, the Function interface is\n",
    "unable to use functions that are defined within your interpreter session.\n",
    "(Specifically, it can't use functions that live in the ``__main__`` namespace)."
   ]
  },
  {
   "cell_type": "markdown",
   "metadata": {},
   "source": [
    "## Using External Packages\n",
    "\n",
    "Chances are, you will want to write functions that do more complicated\n",
    "processing, particularly using the growing stack of Python packages\n",
    "geared towards neuroimaging, such as [Nibabel](http://nipy.org/nibabel/), [Nipy](http://nipy.org/), or [PyMVPA](http://www.pymvpa.org/).\n",
    "\n",
    "While this is completely possible (and, indeed, an intended use of the Function interface), it does come with one important constraint. The function code you write is executed in a standalone environment, which means that any external functions or classes you use have to be imported within the function itself:"
   ]
  },
  {
   "cell_type": "code",
   "execution_count": null,
   "metadata": {},
   "outputs": [],
   "source": [
    "def get_n_trs(in_file):\n",
    "    import nibabel\n",
    "    f = nibabel.load(in_file)\n",
    "    return f.shape[-1]"
   ]
  },
  {
   "cell_type": "markdown",
   "metadata": {},
   "source": [
    "Without explicitly importing Nibabel in the body of the function, this would fail.\n",
    "\n",
    "Alternatively, it is possible to provide a list of strings corresponding to the imports needed to execute a function as a parameter of the `Function` constructor. This allows for the use of external functions that do not import all external definitions inside the function body."
   ]
  },
  {
   "cell_type": "markdown",
   "metadata": {},
   "source": [
    "## Hello World - Function interface in a workflow\n",
    "\n",
    "Contributed by: Hänel Nikolaus Valentin\n",
    "\n",
    "The following snippet of code demonstrates the use of the function interface in the context of a workflow. Note the use of ``import os`` within the function as well as returning the absolute path from the Hello function. The `import` inside is necessary because functions are coded as strings and do not have to be on the PYTHONPATH. However any function called by this function has to be available on the PYTHONPATH. The `absolute path` is necessary because all workflow nodes are executed in their own directory and therefore there is no way of determining that the input file came from a different directory:"
   ]
  },
  {
   "cell_type": "code",
   "execution_count": null,
   "metadata": {},
   "outputs": [],
   "source": [
    "import nipype.pipeline.engine as pe\n",
    "from nipype.interfaces.utility import Function\n",
    "\n",
    "def Hello():\n",
    "   import os\n",
    "   from nipype import logging\n",
    "   iflogger = logging.getLogger('interface')\n",
    "   message = \"Hello \"\n",
    "   file_name =  'hello.txt'\n",
    "   iflogger.info(message)\n",
    "   with open(file_name, 'w') as fp:\n",
    "       fp.write(message)\n",
    "   return os.path.abspath(file_name)\n",
    "\n",
    "def World(in_file):\n",
    "   from nipype import logging\n",
    "   iflogger = logging.getLogger('interface')\n",
    "   message = \"World!\"\n",
    "   iflogger.info(message)\n",
    "   with open(in_file, 'a') as fp:\n",
    "       fp.write(message)\n",
    "\n",
    "hello = pe.Node(name='hello',\n",
    "               interface=Function(input_names=[],\n",
    "                                  output_names=['out_file'],\n",
    "                                  function=Hello))\n",
    "world = pe.Node(name='world',\n",
    "               interface=Function(input_names=['in_file'],\n",
    "                                  output_names=[],\n",
    "                                  function=World))\n",
    "\n",
    "pipeline = pe.Workflow(name='nipype_demo')\n",
    "pipeline.connect([(hello, world, [('out_file', 'in_file')])])\n",
    "pipeline.run()\n",
    "pipeline.write_graph(graph2use='flat')"
   ]
  },
  {
   "cell_type": "markdown",
   "metadata": {},
   "source": [
    "## Advanced Use\n",
    "\n",
    "To use an existing function object (as we have been doing so far) with a Function interface, it must be passed to the constructor. However, it is also possible to dynamically set how a Function interface will process its inputs using the special ``function_str`` input.\n",
    "\n",
    "This input takes not a function object, but actually a single string that can be parsed to define a function. In the equivalent case to our example above, the string would be"
   ]
  },
  {
   "cell_type": "code",
   "execution_count": null,
   "metadata": {},
   "outputs": [],
   "source": [
    "add_two_str = \"def add_two(val):\\n    return val + 2\\n\""
   ]
  },
  {
   "cell_type": "markdown",
   "metadata": {},
   "source": [
    "Unlike when using a function object, this input can be set like any other, meaning that you could write a function that outputs different function strings depending on some run-time contingencies, and connect that output the the ``function_str`` input of a downstream Function interface."
   ]
  }
 ],
 "metadata": {
  "kernelspec": {
   "display_name": "Python 3",
   "language": "python",
   "name": "python3"
  },
  "language_info": {
   "codemirror_mode": {
    "name": "ipython",
    "version": 3
   },
   "file_extension": ".py",
   "mimetype": "text/x-python",
   "name": "python",
   "nbconvert_exporter": "python",
   "pygments_lexer": "ipython3",
   "version": "3.6.3"
  }
 },
 "nbformat": 4,
 "nbformat_minor": 2
}
