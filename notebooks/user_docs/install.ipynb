{
 "cells": [
  {
   "cell_type": "markdown",
   "metadata": {},
   "source": [
    "# Download and install\n",
    "\n",
    "This page covers the necessary steps to install Nipype."
   ]
  },
  {
   "cell_type": "markdown",
   "metadata": {},
   "source": [
    "## Using docker\n",
    "\n",
    "- You can follow the [Nipype tutorial](https://miykael.github.io/nipype_tutorial)\n",
    "\n",
    "\n",
    "- or use this docker container: `docker pull nipype/nipype`\n",
    "\n",
    "\n",
    "- or if you want to build custom docker containers with specific versions of software see [Neurodocker](https://github.com/kaczmarj/neurodocker)"
   ]
  },
  {
   "cell_type": "markdown",
   "metadata": {},
   "source": [
    "## Using conda\n",
    "\n",
    "Installing nipype from the conda-forge channel can be achieved by::\n",
    "\n",
    "    conda install --channel conda-forge nipype\n",
    "\n",
    "It is possible to list all of the versions of nipype available on your platform with::\n",
    "\n",
    "    conda search nipype --channel conda-forge\n",
    "\n",
    "For more information, please see https://github.com/conda-forge/nipype-feedstock"
   ]
  },
  {
   "cell_type": "markdown",
   "metadata": {},
   "source": [
    "## Using Pypi\n",
    "\n",
    "The installation process is similar to other Python packages.\n",
    "\n",
    "If you already have a Python environment set up, you can do:\n",
    "\n",
    "    pip install nipype\n",
    "\n",
    "If you want to install all the optional features of ``nipype``, use the following command:\n",
    "\n",
    "    pip install nipype[all]\n",
    "\n",
    "While `all` installs everything, one can also install select components as listed below:\n",
    "\n",
    "```python\n",
    "'doc': ['Sphinx>=1.4', 'matplotlib', 'pydotplus', 'pydot>=1.2.3'],\n",
    "'tests': ['pytest-cov', 'codecov'],\n",
    "'nipy': ['nitime', 'nilearn', 'dipy', 'nipy', 'matplotlib'],\n",
    "'profiler': ['psutil'],\n",
    "'duecredit': ['duecredit'],\n",
    "'xvfbwrapper': ['xvfbwrapper'],\n",
    "```"
   ]
  },
  {
   "cell_type": "markdown",
   "metadata": {},
   "source": [
    "## Debian and Ubuntu\n",
    "\n",
    "Add the [NeuroDebian](http://neuro.debian.org) repository and install the ``python-nipype`` package using ``apt-get`` or your favorite package manager."
   ]
  },
  {
   "cell_type": "markdown",
   "metadata": {},
   "source": [
    "## Mac OS X\n",
    "\n",
    "The easiest way to get nipype running on Mac OS X is to install [Miniconda](https://conda.io/miniconda.html) and follow the instructions above. If you have a non-conda environment you can install nipype by typing:\n",
    "\n",
    "    pip install nipype\n",
    "\n",
    "Note that the above procedure may require availability of gcc on your system path to compile the traits package."
   ]
  },
  {
   "cell_type": "markdown",
   "metadata": {},
   "source": [
    "## From source\n",
    "\n",
    "- The most recent release is found here: https://github.com/nipy/nipype/releases/latest\n",
    "\n",
    "\n",
    "- The development version: [[zip](http://github.com/nipy/nipype/zipball/master), [tar.gz](http://github.com/nipy/nipype/tarball/master)]\n",
    "\n",
    "\n",
    "- For previous versions: [prior downloads](http://github.com/nipy/nipype/tags)\n",
    "\n",
    "\n",
    "- If you downloaded the source distribution named something\n",
    "like ``nipype-x.y.tar.gz``, then unpack the tarball, change into the\n",
    "``nipype-x.y`` directory and install nipype using:\n",
    "\n",
    "        pip install .\n",
    "\n",
    "**Note:** Depending on permissions you may need to use ``sudo``."
   ]
  },
  {
   "cell_type": "markdown",
   "metadata": {},
   "source": [
    "## Testing the install\n",
    "\n",
    "The best way to test the install is checking nipype's version and then running the tests:\n",
    "\n",
    "```python\n",
    "python -c \"import nipype; print(nipype.__version__)\"\n",
    "python -c \"import nipype; nipype.test()\"\n",
    "```"
   ]
  },
  {
   "cell_type": "markdown",
   "metadata": {},
   "source": [
    "## Interface Dependencies\n",
    "\n",
    "Nipype provides wrappers around many neuroimaging tools and contains some algorithms. These tools will need to be installed for Nipype to run. You can create containers with different versions of these tools installed using [Neurodocker](https://github.com/kaczmarj/neurodocker)."
   ]
  },
  {
   "cell_type": "markdown",
   "metadata": {},
   "source": [
    "## Installation for developers\n",
    "\n",
    "Developers should start [here](http://nipype.readthedocs.io/en/latest/devel/testing_nipype.html).\n",
    "\n",
    "Developers can also use this docker container:\n",
    "\n",
    "    docker pull nipype/nipype:master"
   ]
  }
 ],
 "metadata": {
  "kernelspec": {
   "display_name": "Python 3",
   "language": "python",
   "name": "python3"
  },
  "language_info": {
   "codemirror_mode": {
    "name": "ipython",
    "version": 3
   },
   "file_extension": ".py",
   "mimetype": "text/x-python",
   "name": "python",
   "nbconvert_exporter": "python",
   "pygments_lexer": "ipython3",
   "version": "3.6.3"
  }
 },
 "nbformat": 4,
 "nbformat_minor": 2
}
