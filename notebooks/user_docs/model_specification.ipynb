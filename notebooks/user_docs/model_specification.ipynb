{
 "cells": [
  {
   "cell_type": "markdown",
   "metadata": {},
   "source": [
    "# Model Specification for First Level fMRI Analysis\n",
    "\n",
    "Nipype provides a general purpose model specification mechanism with specialized subclasses for package specific extensions."
   ]
  },
  {
   "cell_type": "markdown",
   "metadata": {},
   "source": [
    "## General purpose model specification\n",
    "\n",
    "The `SpecifyModel` provides a generic mechanism for model specification. A mandatory input called subject_info provides paradigm specification for each run corresponding to a subject. This has to be in the form of a `Bunch` or a list of Bunch objects (one for each run). Each Bunch object contains the following attribules."
   ]
  },
  {
   "cell_type": "markdown",
   "metadata": {},
   "source": [
    "### Required for most designs\n",
    "\n",
    "- conditions : list of names\n",
    "\n",
    "- onsets : lists of onsets corresponding to each condition\n",
    "\n",
    "- durations : lists of durations corresponding to each condition. Should be left to a single 0 if all events are being modelled as impulses."
   ]
  },
  {
   "cell_type": "markdown",
   "metadata": {},
   "source": [
    "### Optional\n",
    "\n",
    "- regressor_names : list of names corresponding to each column. Should be None if  automatically assigned.\n",
    "\n",
    "- regressors : list of lists. values for each regressor - must correspond to the number of volumes in the functional run\n",
    "\n",
    "- amplitudes : lists of amplitudes for each event. This will be ignored by SPM's Level1Design.\n",
    "\n",
    "The following two (tmod, pmod) will be ignored by any Level1Design class other than SPM:\n",
    "\n",
    "- tmod : lists of conditions that should be temporally modulated. Should default to None if not being used.\n",
    "\n",
    "- pmod : list of Bunch corresponding to conditions\n",
    "   - name : name of parametric modulator\n",
    "   - param : values of the modulator\n",
    "   - poly : degree of modulation\n",
    "\n",
    "An example Bunch definition:"
   ]
  },
  {
   "cell_type": "code",
   "execution_count": null,
   "metadata": {},
   "outputs": [],
   "source": [
    "from nipype.interfaces.base import Bunch\n",
    "condnames = ['Tapping', 'Speaking', 'Yawning']\n",
    "event_onsets = [[0, 10, 50], [20, 60, 80], [30, 40, 70]]\n",
    "durations = [[0],[0],[0]]\n",
    "\n",
    "subject_info = Bunch(conditions=condnames,\n",
    "                     onsets = event_onsets,\n",
    "                     durations = durations)"
   ]
  },
  {
   "cell_type": "markdown",
   "metadata": {},
   "source": [
    "Alternatively, you can provide condition, onset, duration and amplitude\n",
    "information through event files. The event files have to be in 1,2 or 3\n",
    "column format with the columns corresponding to Onsets, Durations and\n",
    "Amplitudes and they have to have the name event_name.run<anything else>\n",
    "e.g.: Words.run001.txt. The event_name part will be used to create the\n",
    "condition names. Words.run001.txt may look like::\n",
    "\n",
    "    # Word Onsets Durations\n",
    "    0   10\n",
    "    20   10\n",
    "    ...\n",
    "\n",
    "or with amplitudes::\n",
    "\n",
    "    # Word Onsets Durations Amplitudes\n",
    "    0    10     1\n",
    "    20   10    1\n",
    "    ...\n",
    "\n",
    "Together with this information, one needs to specify:\n",
    "\n",
    "- whether the durations and event onsets are specified in terms of scan volumes or secs.\n",
    "\n",
    "- the high-pass filter cutoff,\n",
    "\n",
    "- the repetition time per scan\n",
    "\n",
    "- functional data files corresponding to each run.\n",
    "\n",
    "Optionally you can specify realignment parameters, outlier indices. Outlier files should contain a list of numbers, one per row indicating which scans should not be included in the analysis. The numbers are 0-based."
   ]
  },
  {
   "cell_type": "markdown",
   "metadata": {},
   "source": [
    "## SPM specific attributes\n",
    "\n",
    "In addition to the generic specification options, several SPM specific options can be provided. In particular, the subject_info function can provide temporal and parametric modulators in the Bunch attributes tmod and pmod. The following example adds a linear parametric modulator for speaking rate for the events specified earlier:"
   ]
  },
  {
   "cell_type": "code",
   "execution_count": null,
   "metadata": {},
   "outputs": [],
   "source": [
    "pmod = [None, Bunch(name=['Rate'],\n",
    "                    param=[[.300, .500, .600]],\n",
    "                    poly=[1]), None]\n",
    "subject_info = Bunch(conditions=condnames,\n",
    "                     onsets = event_onsets,\n",
    "                     durations = durations,\n",
    "                     pmod = pmod)"
   ]
  },
  {
   "cell_type": "markdown",
   "metadata": {},
   "source": [
    "`SpecifySPMModel` also allows specifying additional components. If you have a study with multiple runs, you can choose to concatenate conditions from different runs. by setting the input option **concatenate_runs** to True. You can also choose to set the output options for this class to be in terms of 'scans'."
   ]
  },
  {
   "cell_type": "markdown",
   "metadata": {},
   "source": [
    "## Sparse model specification\n",
    "\n",
    "In addition to standard models, `SpecifySparseModel` allows model generation for sparse and sparse-clustered acquisition experiments. Details of the model generation and utility are provided in [Ghosh et al. (2009) OHBM 2009](http://dl.dropbox.com/u/363467/OHBM2009_HRF.pdf)\n",
    "\n",
    "**!! Link is broken !!**"
   ]
  }
 ],
 "metadata": {
  "kernelspec": {
   "display_name": "Python 3",
   "language": "python",
   "name": "python3"
  },
  "language_info": {
   "codemirror_mode": {
    "name": "ipython",
    "version": 3
   },
   "file_extension": ".py",
   "mimetype": "text/x-python",
   "name": "python",
   "nbconvert_exporter": "python",
   "pygments_lexer": "ipython3",
   "version": "3.6.3"
  }
 },
 "nbformat": 4,
 "nbformat_minor": 2
}
